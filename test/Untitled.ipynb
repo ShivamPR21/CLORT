{
 "cells": [
  {
   "cell_type": "code",
   "execution_count": 1,
   "id": "11d2a43d",
   "metadata": {},
   "outputs": [],
   "source": [
    "import torch\n",
    "import numpy as np"
   ]
  },
  {
   "cell_type": "code",
   "execution_count": 4,
   "id": "7f21ef15",
   "metadata": {},
   "outputs": [],
   "source": [
    "arr = np.random.rand(5, 3, 2)"
   ]
  },
  {
   "cell_type": "code",
   "execution_count": 5,
   "id": "368d4838",
   "metadata": {},
   "outputs": [
    {
     "data": {
      "text/plain": [
       "array([[[0.0078215 , 0.1491934 ],\n",
       "        [0.38063382, 0.941116  ],\n",
       "        [0.15760946, 0.64003303]],\n",
       "\n",
       "       [[0.7478735 , 0.11747618],\n",
       "        [0.32654541, 0.337648  ],\n",
       "        [0.53779692, 0.82881705]],\n",
       "\n",
       "       [[0.51235336, 0.10114571],\n",
       "        [0.54002731, 0.4558533 ],\n",
       "        [0.64613703, 0.80320723]],\n",
       "\n",
       "       [[0.90665104, 0.5584286 ],\n",
       "        [0.29621443, 0.69133776],\n",
       "        [0.55229239, 0.73755799]],\n",
       "\n",
       "       [[0.27363688, 0.06572606],\n",
       "        [0.69980227, 0.43660154],\n",
       "        [0.23506679, 0.62175942]]])"
      ]
     },
     "execution_count": 5,
     "metadata": {},
     "output_type": "execute_result"
    }
   ],
   "source": [
    "arr"
   ]
  },
  {
   "cell_type": "code",
   "execution_count": 11,
   "id": "2ea1ce25",
   "metadata": {},
   "outputs": [],
   "source": [
    "idx = np.random.choice(5, 3, replace=False)"
   ]
  },
  {
   "cell_type": "code",
   "execution_count": 12,
   "id": "c7c1260b",
   "metadata": {},
   "outputs": [
    {
     "data": {
      "text/plain": [
       "array([1, 4, 2])"
      ]
     },
     "execution_count": 12,
     "metadata": {},
     "output_type": "execute_result"
    }
   ],
   "source": [
    "idx"
   ]
  },
  {
   "cell_type": "code",
   "execution_count": 14,
   "id": "9478b664",
   "metadata": {},
   "outputs": [
    {
     "data": {
      "text/plain": [
       "(3, 3, 2)"
      ]
     },
     "execution_count": 14,
     "metadata": {},
     "output_type": "execute_result"
    }
   ],
   "source": [
    "arr[idx].shape"
   ]
  },
  {
   "cell_type": "code",
   "execution_count": null,
   "id": "d717d7a2",
   "metadata": {},
   "outputs": [],
   "source": []
  }
 ],
 "metadata": {
  "kernelspec": {
   "display_name": "Python 3 (ipykernel)",
   "language": "python",
   "name": "python3"
  },
  "language_info": {
   "codemirror_mode": {
    "name": "ipython",
    "version": 3
   },
   "file_extension": ".py",
   "mimetype": "text/x-python",
   "name": "python",
   "nbconvert_exporter": "python",
   "pygments_lexer": "ipython3",
   "version": "3.8.10"
  }
 },
 "nbformat": 4,
 "nbformat_minor": 5
}
