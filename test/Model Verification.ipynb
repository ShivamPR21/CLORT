{
 "cells": [
  {
   "cell_type": "code",
   "execution_count": 1,
   "id": "4df18da7",
   "metadata": {},
   "outputs": [],
   "source": [
    "import torch\n",
    "import torch.nn as nn\n",
    "from torchviz import make_dot\n",
    "from torchinfo import summary\n",
    "import hiddenlayer as hl \n",
    "\n",
    "from clort.clearn.models import Level1Encoder, PointCloudEncoder, FeatureMixer"
   ]
  },
  {
   "cell_type": "code",
   "execution_count": 2,
   "id": "9ec40ecd",
   "metadata": {},
   "outputs": [],
   "source": [
    "vis_model = Level1Encoder()\n",
    "pcl_model = PointCloudEncoder(10)\n",
    "feature_mixer = FeatureMixer()"
   ]
  },
  {
   "cell_type": "code",
   "execution_count": 3,
   "id": "45198e3d",
   "metadata": {},
   "outputs": [],
   "source": [
    "x_vis = torch.rand(5, 21, 256, 256)\n",
    "x_pcl = torch.rand(5, 3, 20)"
   ]
  },
  {
   "cell_type": "code",
   "execution_count": 6,
   "id": "7b793290",
   "metadata": {},
   "outputs": [],
   "source": [
    "vis_out = vis_model(x_vis)\n",
    "pcl_out = pcl_model(x_pcl)"
   ]
  },
  {
   "cell_type": "code",
   "execution_count": 7,
   "id": "33939fd6",
   "metadata": {},
   "outputs": [
    {
     "name": "stdout",
     "output_type": "stream",
     "text": [
      "Visual encoding size: torch.Size([5, 512]), PCL encoding size: torch.Size([5, 40])\n"
     ]
    }
   ],
   "source": [
    "print(f'Visual encoding size: {vis_out.size()}, PCL encoding size: {pcl_out.size()}')"
   ]
  },
  {
   "cell_type": "code",
   "execution_count": 10,
   "id": "32b86290",
   "metadata": {},
   "outputs": [],
   "source": [
    "enc = feature_mixer(vis_out, pcl_out)"
   ]
  },
  {
   "cell_type": "code",
   "execution_count": 12,
   "id": "f92e8d25",
   "metadata": {},
   "outputs": [],
   "source": [
    "fig = make_dot(enc, show_attrs=False, show_saved=True)"
   ]
  },
  {
   "cell_type": "code",
   "execution_count": 13,
   "id": "f5480548",
   "metadata": {},
   "outputs": [
    {
     "data": {
      "text/plain": [
       "'enc.pdf'"
      ]
     },
     "execution_count": 13,
     "metadata": {},
     "output_type": "execute_result"
    }
   ],
   "source": [
    "fig.render('enc', format='pdf')"
   ]
  },
  {
   "cell_type": "code",
   "execution_count": 4,
   "id": "842ce05b",
   "metadata": {},
   "outputs": [
    {
     "name": "stderr",
     "output_type": "stream",
     "text": [
      "/home/shivam/Research/Development/ModuleZooTorch/moduleZoo/attention/conv_multi_head_attention.py:59: TracerWarning: Converting a tensor to a Python boolean might cause the trace to be incorrect. We can't record the data flow of Python values, so this value will be treated as a constant in the future. This means that the trace might not generalize to other inputs!\n",
      "  assert(b == B)\n",
      "/home/shivam/Research/Development/ModuleZooTorch/moduleZoo/attention/conv_multi_head_attention.py:60: TracerWarning: Converting a tensor to a Python boolean might cause the trace to be incorrect. We can't record the data flow of Python values, so this value will be treated as a constant in the future. This means that the trace might not generalize to other inputs!\n",
      "  if w != W and h != H:\n",
      "/home/shivam/.venv/clort/lib/python3.8/site-packages/torch/onnx/symbolic_opset9.py:693: UserWarning: This model contains a squeeze operation on dimension 0. If the model is intended to be used with dynamic input shapes, please use opset version 11 to export the model.\n",
      "  warnings.warn(\"This model contains a squeeze operation on dimension \" + str(squeeze_dim) + \". If the model is \" +\n"
     ]
    }
   ],
   "source": [
    "input_names = ['Visual Cues']\n",
    "output_names = ['Visual Encoding']\n",
    "torch.onnx.export(vis_model, x_vis, 'Visual_Model.onnx', input_names=input_names, output_names=output_names)"
   ]
  },
  {
   "cell_type": "code",
   "execution_count": 5,
   "id": "cf8d6a55",
   "metadata": {},
   "outputs": [
    {
     "name": "stderr",
     "output_type": "stream",
     "text": [
      "/home/shivam/.venv/clort/lib/python3.8/site-packages/torch/onnx/symbolic_opset9.py:667: UserWarning: ONNX export squeeze with negative axis -1 might cause the onnx model to be incorrect. Negative axis is not supported in ONNX. Axis is converted to 2 based on input shape at export time. Passing an tensor of different rank in execution will be incorrect.\n",
      "  warnings.warn(\"ONNX export squeeze with negative axis \" + str(squeeze_dim) +\n",
      "/home/shivam/.venv/clort/lib/python3.8/site-packages/torch/onnx/symbolic_opset9.py:693: UserWarning: This model contains a squeeze operation on dimension 2. If the model is intended to be used with dynamic input shapes, please use opset version 11 to export the model.\n",
      "  warnings.warn(\"This model contains a squeeze operation on dimension \" + str(squeeze_dim) + \". If the model is \" +\n"
     ]
    }
   ],
   "source": [
    "input_names = ['Geomentric Cues']\n",
    "output_names = ['Geometric Encoding']\n",
    "torch.onnx.export(pcl_model, x_pcl, 'Geometric_Model.onnx', input_names=input_names, output_names=output_names)"
   ]
  },
  {
   "cell_type": "code",
   "execution_count": 8,
   "id": "10ab3b74",
   "metadata": {},
   "outputs": [],
   "source": [
    "input_names = ['Visual Encoding', 'Geometric Encoding']\n",
    "output_names = ['Feature representation']\n",
    "torch.onnx.export(feature_mixer, (vis_out, pcl_out), 'Feature_Mixer.onnx', input_names=input_names, output_names=output_names)"
   ]
  },
  {
   "cell_type": "code",
   "execution_count": 16,
   "id": "f9946392",
   "metadata": {},
   "outputs": [
    {
     "data": {
      "text/plain": [
       "5"
      ]
     },
     "execution_count": 16,
     "metadata": {},
     "output_type": "execute_result"
    }
   ],
   "source": [
    "x_pcl.shape[0]"
   ]
  },
  {
   "cell_type": "code",
   "execution_count": null,
   "id": "dc357cf3",
   "metadata": {},
   "outputs": [],
   "source": []
  }
 ],
 "metadata": {
  "kernelspec": {
   "display_name": "Python 3 (ipykernel)",
   "language": "python",
   "name": "python3"
  },
  "language_info": {
   "codemirror_mode": {
    "name": "ipython",
    "version": 3
   },
   "file_extension": ".py",
   "mimetype": "text/x-python",
   "name": "python",
   "nbconvert_exporter": "python",
   "pygments_lexer": "ipython3",
   "version": "3.8.10"
  }
 },
 "nbformat": 4,
 "nbformat_minor": 5
}
