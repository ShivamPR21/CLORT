{
 "cells": [
  {
   "cell_type": "code",
   "execution_count": 1,
   "id": "4df18da7",
   "metadata": {},
   "outputs": [],
   "source": [
    "import torch\n",
    "import torch.nn as nn\n",
    "from torchviz import make_dot\n",
    "from torchinfo import summary\n",
    "\n",
    "from clort.clearn.models import Level1Encoder, PointCloudEncoder, FeatureMixer"
   ]
  },
  {
   "cell_type": "code",
   "execution_count": 5,
   "id": "9ec40ecd",
   "metadata": {},
   "outputs": [],
   "source": [
    "vis_model = Level1Encoder()\n",
    "pcl_model = PointCloudEncoder(10)\n",
    "feature_mixer = FeatureMixer()"
   ]
  },
  {
   "cell_type": "code",
   "execution_count": 6,
   "id": "45198e3d",
   "metadata": {},
   "outputs": [],
   "source": [
    "x_vis = torch.rand(5, 21, 256, 256)\n",
    "x_pcl = torch.rand(5, 3, 20)"
   ]
  },
  {
   "cell_type": "code",
   "execution_count": 8,
   "id": "7b793290",
   "metadata": {},
   "outputs": [],
   "source": [
    "vis_out = vis_model(x_vis)\n",
    "pcl_out = pcl_model(x_pcl)"
   ]
  },
  {
   "cell_type": "code",
   "execution_count": 9,
   "id": "33939fd6",
   "metadata": {},
   "outputs": [
    {
     "name": "stdout",
     "output_type": "stream",
     "text": [
      "Visual encoding size: torch.Size([5, 512]), PCL encoding size: torch.Size([5, 40])\n"
     ]
    }
   ],
   "source": [
    "print(f'Visual encoding size: {vis_out.size()}, PCL encoding size: {pcl_out.size()}')"
   ]
  },
  {
   "cell_type": "code",
   "execution_count": 10,
   "id": "32b86290",
   "metadata": {},
   "outputs": [],
   "source": [
    "enc = feature_mixer(vis_out, pcl_out)"
   ]
  },
  {
   "cell_type": "code",
   "execution_count": 12,
   "id": "f92e8d25",
   "metadata": {},
   "outputs": [],
   "source": [
    "fig = make_dot(enc, show_attrs=False, show_saved=True)"
   ]
  },
  {
   "cell_type": "code",
   "execution_count": 13,
   "id": "f5480548",
   "metadata": {},
   "outputs": [
    {
     "data": {
      "text/plain": [
       "'enc.pdf'"
      ]
     },
     "execution_count": 13,
     "metadata": {},
     "output_type": "execute_result"
    }
   ],
   "source": [
    "fig.render('enc', format='pdf')"
   ]
  },
  {
   "cell_type": "code",
   "execution_count": null,
   "id": "842ce05b",
   "metadata": {},
   "outputs": [],
   "source": []
  }
 ],
 "metadata": {
  "kernelspec": {
   "display_name": "Python 3 (ipykernel)",
   "language": "python",
   "name": "python3"
  },
  "language_info": {
   "codemirror_mode": {
    "name": "ipython",
    "version": 3
   },
   "file_extension": ".py",
   "mimetype": "text/x-python",
   "name": "python",
   "nbconvert_exporter": "python",
   "pygments_lexer": "ipython3",
   "version": "3.8.10"
  }
 },
 "nbformat": 4,
 "nbformat_minor": 5
}
