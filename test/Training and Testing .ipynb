{
 "cells": [
  {
   "cell_type": "code",
   "execution_count": 1,
   "id": "6ff1c31a",
   "metadata": {},
   "outputs": [],
   "source": [
    "%load_ext autoreload\n",
    "%autoreload 2"
   ]
  },
  {
   "cell_type": "markdown",
   "id": "505733b6",
   "metadata": {},
   "source": [
    "## Dataset"
   ]
  },
  {
   "cell_type": "code",
   "execution_count": 8,
   "id": "1c4de257",
   "metadata": {},
   "outputs": [],
   "source": [
    "import sys\n",
    "\n",
    "import torch\n",
    "from torch.utils.data import DataLoader\n",
    "from clort.clearn.data.cltracking import ContrastiveLearningTracking"
   ]
  },
  {
   "cell_type": "code",
   "execution_count": 3,
   "id": "aa6ffd26",
   "metadata": {},
   "outputs": [
    {
     "name": "stderr",
     "output_type": "stream",
     "text": [
      "WARNING:argoverse.data_loading.synchronization_database:No corresponding stereo image at 315967661819717000: 176.11195999999998 > 100.0 ms\n",
      "WARNING:argoverse.data_loading.synchronization_database:No corresponding stereo image at 315967661819717000: 176.107928 > 100.0 ms\n"
     ]
    }
   ],
   "source": [
    "root = '../../../datasets/argoverse-tracking/train1/'\n",
    "dataset = ContrastiveLearningTracking(root, \n",
    "                                      occlusion_thresh = 30., \n",
    "                                      central_crop=True, \n",
    "                                      img_tr_ww = (0.9, 0.9), \n",
    "                                      image_size_threshold=100,\n",
    "                                      img_reshape = (256, 256),\n",
    "                                      ids_repeat=200)"
   ]
  },
  {
   "cell_type": "code",
   "execution_count": 10,
   "id": "25668b07",
   "metadata": {},
   "outputs": [],
   "source": [
    "dataset.dataset_init(0, 50)"
   ]
  },
  {
   "cell_type": "code",
   "execution_count": 5,
   "id": "89b0bb27",
   "metadata": {},
   "outputs": [],
   "source": [
    "dl = DataLoader(dataset, batch_size=2, shuffle=True)"
   ]
  },
  {
   "cell_type": "markdown",
   "id": "0bbede99",
   "metadata": {},
   "source": [
    "## Model"
   ]
  },
  {
   "cell_type": "code",
   "execution_count": 6,
   "id": "10d03d08",
   "metadata": {},
   "outputs": [],
   "source": [
    "from clort.clearn.models import VisualEncoder, PointCloudEncoder, FeatureMixer\n",
    "from mzLosses.contrastive import SoftNearestNeighbourLoss"
   ]
  },
  {
   "cell_type": "code",
   "execution_count": 7,
   "id": "b7814ffd",
   "metadata": {},
   "outputs": [],
   "source": [
    "vis_model = VisualEncoder()\n",
    "pcl_model = PointCloudEncoder(10)\n",
    "feature_mixer = FeatureMixer(vis_size = 512, pcl_size = 60)"
   ]
  },
  {
   "cell_type": "code",
   "execution_count": 8,
   "id": "dc1840ad",
   "metadata": {},
   "outputs": [],
   "source": [
    "use_gpu = False\n",
    "device = torch.device('cuda' if torch.cuda.is_available() and use_gpu else 'cpu')"
   ]
  },
  {
   "cell_type": "code",
   "execution_count": 9,
   "id": "728b5844",
   "metadata": {},
   "outputs": [
    {
     "data": {
      "text/plain": [
       "FeatureMixer(\n",
       "  (activation): SELU()\n",
       "  (v_linear_1): Linear(in_features=512, out_features=128, bias=False)\n",
       "  (v_bn_1): BatchNorm1d(128, eps=1e-05, momentum=0.1, affine=True, track_running_stats=True)\n",
       "  (v_linear_2): Linear(in_features=128, out_features=64, bias=True)\n",
       "  (f_linear_1): Linear(in_features=124, out_features=128, bias=True)\n",
       "  (f_linear_2): Linear(in_features=128, out_features=64, bias=True)\n",
       ")"
      ]
     },
     "execution_count": 9,
     "metadata": {},
     "output_type": "execute_result"
    }
   ],
   "source": [
    "vis_model.to(device)\n",
    "pcl_model.to(device)\n",
    "feature_mixer.to(device)"
   ]
  },
  {
   "cell_type": "code",
   "execution_count": 10,
   "id": "49b1e1c3",
   "metadata": {},
   "outputs": [],
   "source": [
    "criterion = SoftNearestNeighbourLoss()\n",
    "vis_optim = torch.optim.AdamW(vis_model.parameters())\n",
    "pcl_optim = torch.optim.AdamW(pcl_model.parameters())\n",
    "feature_optim = torch.optim.AdamW(feature_mixer.parameters())"
   ]
  },
  {
   "cell_type": "code",
   "execution_count": null,
   "id": "ab8382fb",
   "metadata": {
    "scrolled": true
   },
   "outputs": [],
   "source": [
    "for imgs, pcls, track_ids in dl:\n",
    "    b, n_view, C, H, W = imgs.size()\n",
    "    _, _, d, n = pcls.size()\n",
    "    \n",
    "    imgs, pcls, track_ids = imgs.view(b*n_view, C, H, W), pcls.view(b*n_view, d, n), track_ids.flatten()\n",
    "    imgs, pcls, track_ids = imgs.to(device), pcls.to(device), track_ids.to(device)\n",
    "    \n",
    "    vis_optim.zero_grad()\n",
    "    pcl_optim.zero_grad()\n",
    "    feature_optim.zero_grad()\n",
    "    \n",
    "    imgs_enc = vis_model(imgs)\n",
    "    pcls_enc = pcl_model(pcls)\n",
    "    final_enc = feature_mixer(imgs_enc, pcls_enc)\n",
    "    \n",
    "#     print(final_enc.size())\n",
    "    loss = criterion(final_enc, track_ids)\n",
    "    print(loss)\n",
    "    \n",
    "    loss.backward()\n",
    "    vis_optim.step()\n",
    "    pcl_optim.step()\n",
    "    feature_optim.step()"
   ]
  },
  {
   "cell_type": "code",
   "execution_count": 16,
   "id": "272edd5b",
   "metadata": {},
   "outputs": [
    {
     "data": {
      "text/plain": [
       "48"
      ]
     },
     "execution_count": 16,
     "metadata": {},
     "output_type": "execute_result"
    }
   ],
   "source": [
    "sys.getsizeof(dataset)"
   ]
  },
  {
   "cell_type": "code",
   "execution_count": 27,
   "id": "25d61e6b",
   "metadata": {},
   "outputs": [],
   "source": [
    "import numpy as np"
   ]
  },
  {
   "cell_type": "code",
   "execution_count": 29,
   "id": "660efe97",
   "metadata": {},
   "outputs": [
    {
     "data": {
      "text/plain": [
       "[0.0, 0.0, 0.0, 0.0]"
      ]
     },
     "execution_count": 29,
     "metadata": {},
     "output_type": "execute_result"
    }
   ],
   "source": [
    "list(np.zeros(4))"
   ]
  },
  {
   "cell_type": "code",
   "execution_count": null,
   "id": "df27dd4d",
   "metadata": {},
   "outputs": [],
   "source": []
  }
 ],
 "metadata": {
  "kernelspec": {
   "display_name": "Python 3 (ipykernel)",
   "language": "python",
   "name": "python3"
  },
  "language_info": {
   "codemirror_mode": {
    "name": "ipython",
    "version": 3
   },
   "file_extension": ".py",
   "mimetype": "text/x-python",
   "name": "python",
   "nbconvert_exporter": "python",
   "pygments_lexer": "ipython3",
   "version": "3.8.10"
  }
 },
 "nbformat": 4,
 "nbformat_minor": 5
}
