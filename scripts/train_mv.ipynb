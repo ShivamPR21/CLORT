{
 "cells": [
  {
   "cell_type": "code",
   "execution_count": 1,
   "metadata": {},
   "outputs": [
    {
     "name": "stderr",
     "output_type": "stream",
     "text": [
      "/home/shivampr21/.venv/clort/lib/python3.10/site-packages/torchvision-0.15.0a0+93df9a5-py3.10-linux-x86_64.egg/torchvision/io/image.py:13: UserWarning: Failed to load image Python extension: libnvjpeg.so.11: cannot open shared object file: No such file or directory\n",
      "  warn(f\"Failed to load image Python extension: {e}\")\n"
     ]
    },
    {
     "data": {
      "text/plain": [
       "<torch.autograd.anomaly_mode.set_detect_anomaly at 0x7f4bec398c40>"
      ]
     },
     "execution_count": 1,
     "metadata": {},
     "output_type": "execute_result"
    }
   ],
   "source": [
    "import os\n",
    "from typing import List\n",
    "\n",
    "import numpy as np\n",
    "import torch\n",
    "import wandb\n",
    "from torch.utils.data import DataLoader\n",
    "from tqdm import tqdm\n",
    "\n",
    "from clort import ArgoCL, ArgoCl_collate_fxn\n",
    "from clort.model import ContrastiveLoss, MemoryBank, MemoryBankInfer, MultiViewEncoder\n",
    "\n",
    "torch.autograd.set_detect_anomaly(True)"
   ]
  },
  {
   "cell_type": "code",
   "execution_count": 12,
   "metadata": {},
   "outputs": [
    {
     "name": "stderr",
     "output_type": "stream",
     "text": [
      "Failed to detect the name of this notebook, you can set it manually with the WANDB_NOTEBOOK_NAME environment variable to enable code saving.\n",
      "\u001b[34m\u001b[1mwandb\u001b[0m: Currently logged in as: \u001b[33mshivampr21\u001b[0m. Use \u001b[1m`wandb login --relogin`\u001b[0m to force relogin\n"
     ]
    },
    {
     "data": {
      "text/html": [
       "Tracking run with wandb version 0.15.4"
      ],
      "text/plain": [
       "<IPython.core.display.HTML object>"
      ]
     },
     "metadata": {},
     "output_type": "display_data"
    },
    {
     "data": {
      "text/html": [
       "Run data is saved locally in <code>/home/shivampr21/Research/MOT-Research/CLORT/scripts/wandb/run-20230616_145718-ddfqh6z7</code>"
      ],
      "text/plain": [
       "<IPython.core.display.HTML object>"
      ]
     },
     "metadata": {},
     "output_type": "display_data"
    },
    {
     "data": {
      "text/html": [
       "Syncing run <strong><a href='https://wandb.ai/shivampr21/CLORT/runs/ddfqh6z7' target=\"_blank\">zany-blaze-1</a></strong> to <a href='https://wandb.ai/shivampr21/CLORT' target=\"_blank\">Weights & Biases</a> (<a href='https://wandb.me/run' target=\"_blank\">docs</a>)<br/>"
      ],
      "text/plain": [
       "<IPython.core.display.HTML object>"
      ]
     },
     "metadata": {},
     "output_type": "display_data"
    },
    {
     "data": {
      "text/html": [
       " View project at <a href='https://wandb.ai/shivampr21/CLORT' target=\"_blank\">https://wandb.ai/shivampr21/CLORT</a>"
      ],
      "text/plain": [
       "<IPython.core.display.HTML object>"
      ]
     },
     "metadata": {},
     "output_type": "display_data"
    },
    {
     "data": {
      "text/html": [
       " View run at <a href='https://wandb.ai/shivampr21/CLORT/runs/ddfqh6z7' target=\"_blank\">https://wandb.ai/shivampr21/CLORT/runs/ddfqh6z7</a>"
      ],
      "text/plain": [
       "<IPython.core.display.HTML object>"
      ]
     },
     "metadata": {},
     "output_type": "display_data"
    },
    {
     "data": {
      "text/html": [
       "<button onClick=\"this.nextSibling.style.display='block';this.style.display='none';\">Display W&B run</button><iframe src='https://wandb.ai/shivampr21/CLORT/runs/ddfqh6z7?jupyter=true' style='border:none;width:100%;height:420px;display:none;'></iframe>"
      ],
      "text/plain": [
       "<wandb.sdk.wandb_run.Run at 0x7f4a990151b0>"
      ]
     },
     "execution_count": 12,
     "metadata": {},
     "output_type": "execute_result"
    }
   ],
   "source": [
    "# start a new wandb run to track this script\n",
    "wandb.init(\n",
    "    # set the wandb project where this run will be logged\n",
    "    project=\"CLORT\",\n",
    "\n",
    "    # track hyperparameters and run metadata\n",
    "    config={\n",
    "    \"architecture\": \"Multi_View Encoder\",\n",
    "    \"dataset\": \"ArgoCL : Train1\",\n",
    "    \"epochs\": 30,\n",
    "    }\n",
    ")"
   ]
  },
  {
   "cell_type": "code",
   "execution_count": 2,
   "metadata": {},
   "outputs": [],
   "source": [
    "root: str = \"../../../datasets/argoverse-tracking/argov1_proc/\"\n",
    "splits: List[str] = ['train4']\n",
    "model_save_dir: str = '~/.tmp/CLORT/'\n",
    "load_saved_model: str | None = None\n",
    "batch_size: int = 1\n",
    "th: int = 1\n",
    "to: int = 0\n",
    "nw: int = 0\n",
    "model_device: torch.device | str = 'cuda'\n",
    "memory_device: torch.device | str = 'cpu'\n",
    "static_contrast: bool = False\n",
    "n_epochs: int = 30"
   ]
  },
  {
   "cell_type": "code",
   "execution_count": 3,
   "metadata": {},
   "outputs": [],
   "source": [
    "train_dataset = ArgoCL(root,\n",
    "                       temporal_horizon=th,\n",
    "                       temporal_overlap=to,\n",
    "                       distance_threshold=(0, 100),\n",
    "                       splits=splits, img_size=(224, 224),\n",
    "                       point_cloud_size=[20, 50, 100, 250, 500, 1000, 1500],\n",
    "                       in_global_frame=True, pivot_to_first_frame=True,\n",
    "                       image=True, pcl=True, bbox=True)\n",
    "\n",
    "val_dataset = ArgoCL(root,\n",
    "                    temporal_horizon=1,\n",
    "                    temporal_overlap=0,\n",
    "                    distance_threshold=(0, 100),\n",
    "                    splits=['val'], img_size=(224, 224),\n",
    "                    point_cloud_size=[20, 50, 100, 250, 500, 1000, 1500],\n",
    "                    in_global_frame=True, pivot_to_first_frame=True,\n",
    "                    image=True, pcl=True, bbox=True)"
   ]
  },
  {
   "cell_type": "code",
   "execution_count": 4,
   "metadata": {},
   "outputs": [],
   "source": [
    "train_dl = DataLoader(train_dataset, batch_size, shuffle=False,\n",
    "                    collate_fn=ArgoCl_collate_fxn, num_workers=nw)\n",
    "\n",
    "val_dl = DataLoader(val_dataset, 1, shuffle=False,\n",
    "                collate_fn=ArgoCl_collate_fxn, num_workers=nw)"
   ]
  },
  {
   "cell_type": "code",
   "execution_count": 5,
   "metadata": {},
   "outputs": [],
   "source": [
    "n_features = 256"
   ]
  },
  {
   "cell_type": "code",
   "execution_count": 6,
   "metadata": {},
   "outputs": [],
   "source": [
    "mv_enc = MultiViewEncoder(out_dim=n_features)\n",
    "mv_enc = mv_enc.to(model_device)"
   ]
  },
  {
   "cell_type": "code",
   "execution_count": 7,
   "metadata": {},
   "outputs": [],
   "source": [
    "mb = MemoryBank(train_dataset.n_tracks, n_features, 5,\n",
    "                    alpha=torch.tensor([0.5, 0.4, 0.3, 0.2, 0.1], dtype=torch.float32, device=memory_device),\n",
    "                    device=memory_device)\n",
    "\n",
    "cl = ContrastiveLoss(temp=0.05, static_contrast=static_contrast)"
   ]
  },
  {
   "cell_type": "code",
   "execution_count": 9,
   "metadata": {},
   "outputs": [],
   "source": [
    "optimizer = torch.optim.AdamW(\n",
    "                        params=[\n",
    "                            {'params' : mv_enc.sv_enc1.parameters(), 'lr': 1e-6},\n",
    "                            {'params': mv_enc.sv_enc2.parameters(), 'lr': 1e-4},\n",
    "                            {'params': mv_enc.sv_enc3.parameters(), 'lr': 1e-4},\n",
    "                            {'params': mv_enc.gat.parameters(), 'lr': 1e-4},\n",
    "                            {'params': mv_enc.projection_head.parameters(), 'lr': 1e-4}\n",
    "                            ], lr = 1e-4, weight_decay=1e-3\n",
    "                    )"
   ]
  },
  {
   "cell_type": "code",
   "execution_count": 10,
   "metadata": {},
   "outputs": [],
   "source": [
    "# Load model from file\n",
    "last_epoch = -1\n",
    "\n",
    "lr_scheduler = torch.optim.lr_scheduler.StepLR(optimizer, step_size=20, gamma=0.1, last_epoch=last_epoch)\n",
    "\n",
    "training_loss: List[float] = []\n",
    "validation_loss: List[float] = []"
   ]
  },
  {
   "cell_type": "code",
   "execution_count": 11,
   "metadata": {},
   "outputs": [],
   "source": [
    "if load_saved_model is not None:\n",
    "    ckpt = torch.load(load_saved_model)\n",
    "    mv_enc.load_state_dict(ckpt['mv_enc'])\n",
    "    optimizer.load_state_dict(ckpt['optimizer'])\n",
    "    lr_scheduler.load_state_dict(ckpt['lr_scheduler'])\n",
    "    training_loss = ckpt['train_loss']\n",
    "    validation_loss = ckpt['val_loss']"
   ]
  },
  {
   "cell_type": "code",
   "execution_count": null,
   "metadata": {},
   "outputs": [],
   "source": [
    "for epoch in range(last_epoch+1, n_epochs):\n",
    "    model_path = os.path.join(model_save_dir, f'model_{epoch}.pth')\n",
    "\n",
    "    # Training loop\n",
    "    for itr, (_, _, imgs, imgs_sz, _, track_idxs, _, _, _) in tqdm(enumerate(train_dl)):\n",
    "        mv_enc.train() # Enable training\n",
    "        optimizer.zero_grad()\n",
    "\n",
    "        # pcls = pcls.to(model_device)\n",
    "        imgs = imgs.to(model_device)\n",
    "        track_idxs = torch.from_numpy(track_idxs.astype(np.int32))\n",
    "        # bboxs = bboxs.to(model_device)\n",
    "\n",
    "        mv_e = mv_enc(imgs, imgs_sz)\n",
    "\n",
    "        loss = cl(mv_e, track_idxs, mb.get_memory())\n",
    "        training_loss.append(loss.numpy(force=True).item())\n",
    "\n",
    "        loss.backward()\n",
    "\n",
    "        optimizer.step()\n",
    "\n",
    "        if itr%10 == 9:\n",
    "            print(f'{epoch = } and {itr = } : Mean Training loss : {np.mean(training_loss[-10:])}')\n",
    "\n",
    "    ###################################################################################\n",
    "            ### Validation loss\n",
    "            mb_infer = MemoryBankInfer(val_dataset.n_tracks, n_features, 5, 3, 'cpu')\n",
    "\n",
    "            cl_infer = ContrastiveLoss(static_contrast=False)\n",
    "\n",
    "            val_loss = 0.0\n",
    "\n",
    "            mv_enc.eval() # Enable inference\n",
    "\n",
    "            with torch.no_grad():\n",
    "                for _, (_, _, imgs, imgs_sz, _, track_idxs, _, _, _) in tqdm(enumerate(val_dl)):\n",
    "                    # pcls = pcls.to(model_device)\n",
    "                    imgs = imgs.to(model_device)\n",
    "                    track_idxs = torch.from_numpy(track_idxs.astype(np.int32))\n",
    "                    # bboxs = bboxs.to(model_device)\n",
    "\n",
    "                    mv_e : torch.Tensor = mv_enc(imgs, imgs_sz)\n",
    "                    loss : torch.Tensor = cl_infer(mv_e, track_idxs, mb_infer.get_memory())\n",
    "\n",
    "                    val_loss += loss.detach().cpu().item()\n",
    "\n",
    "                    mb_infer.update(mv_e.detach().cpu(), track_idxs)\n",
    "\n",
    "            val_loss /= len(val_dl)\n",
    "            validation_loss.append(val_loss)\n",
    "\n",
    "            print(f'{epoch = } and {itr = } : Mean Validation loss : {val_loss = }')\n",
    "\n",
    "            wandb.log({'epoch': epoch+1, 'itr': itr+1,\n",
    "                        'training_loss': np.mean(training_loss[-10:]),\n",
    "                        'val_loss': val_loss})\n",
    "            ### Validation loss\n",
    "    ###################################################################################\n",
    "    lr_scheduler.step() # Step Learning rate\n",
    "\n",
    "    model_info = {\n",
    "        'EPOCH': epoch,\n",
    "        'mv_enc': mv_enc.state_dict(),\n",
    "        'optimizer': optimizer.state_dict(),\n",
    "        'lr_scheduler': lr_scheduler.state_dict(),\n",
    "        'train_loss': training_loss,\n",
    "        'val_loss': validation_loss\n",
    "    }\n",
    "\n",
    "    torch.save(model_info, model_path)"
   ]
  }
 ],
 "metadata": {
  "kernelspec": {
   "display_name": "clort",
   "language": "python",
   "name": "python3"
  },
  "language_info": {
   "codemirror_mode": {
    "name": "ipython",
    "version": 3
   },
   "file_extension": ".py",
   "mimetype": "text/x-python",
   "name": "python",
   "nbconvert_exporter": "python",
   "pygments_lexer": "ipython3",
   "version": "3.10.6"
  },
  "orig_nbformat": 4
 },
 "nbformat": 4,
 "nbformat_minor": 2
}
